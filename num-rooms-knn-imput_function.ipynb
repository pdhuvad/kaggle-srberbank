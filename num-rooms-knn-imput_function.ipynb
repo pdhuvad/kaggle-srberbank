{
 "cells": [
  {
   "cell_type": "code",
   "execution_count": 1,
   "metadata": {
    "collapsed": false
   },
   "outputs": [
    {
     "name": "stdout",
     "output_type": "stream",
     "text": [
      "Once deleted, variables cannot be recovered. Proceed (y/[n])? y\n"
     ]
    }
   ],
   "source": [
    "# %load num-rooms.py\n",
    "%reset\n",
    "import pandas as pd\n",
    "import numpy as np\n",
    "import matplotlib.pyplot as plt\n",
    "\n",
    "train_org_df=pd.read_csv('train.csv',parse_dates=['timestamp'])\n",
    "#train_org_df.price_doc = train_org_df.price_doc/1000000.\n",
    "macro_org_df=pd.read_csv('macro.csv',parse_dates=['timestamp'])\n",
    "train_df=pd.merge(train_org_df,macro_org_df,how='left',on='timestamp')\n",
    "test_org_df=pd.read_csv('test.csv',parse_dates=['timestamp'])\n",
    "test_df=pd.merge(test_org_df,macro_org_df,on='timestamp',how='left')\n"
   ]
  },
  {
   "cell_type": "code",
   "execution_count": 2,
   "metadata": {
    "collapsed": false
   },
   "outputs": [],
   "source": [
    "pd.set_option('display.max_columns',50)\n",
    "pd.set_option('display.max_rows',100)"
   ]
  },
  {
   "cell_type": "raw",
   "metadata": {},
   "source": [
    "# Points to consider - Test data"
   ]
  },
  {
   "cell_type": "raw",
   "metadata": {},
   "source": [
    "df[(df.life_sq.isnull()) & (df.num_room.isnull()) & (df.kitch_sq.isnull())].shape\n",
    "df[df.num_room.isnull()].shape\n",
    "tmp1=df[(df.num_room.isnull()) | (df.kitch_sq.isnull())]\n",
    "tmp1[tmp1.full_sq < 10].shape\n",
    "df[df.full_sq < 10].shape\n",
    "tmp2=df[df.notnull()]\n",
    "tmp2.corr(method='pearson')"
   ]
  },
  {
   "cell_type": "raw",
   "metadata": {
    "collapsed": true
   },
   "source": [
    "df[(df.full_sq < 300) & (df.full_sq > 100)]\n",
    "df[df.full_sq < 20].shape\n",
    "df[ (df.full_sq - df.life_sq)  > .9*df.full_sq]\n",
    "df[df.life_sq == df.full_sq].price_doc.mean()\n",
    "df=train_org_df[['full_sq','life_sq','kitch_sq','num_room','sub_area','floor', 'price_doc']]\n",
    "tmp=train_df[train_df.sub_area=='Nagornoe']\n",
    "#Do not include sub area ,less important.. \n",
    "tmp.num_room.hist(bins=10)\n",
    "plt.show()\n",
    "tmp=train_df[train_df.sub_area=='Solncevo']\n",
    "tmp.num_room.hist(bins=10)\n",
    "plt.show()"
   ]
  },
  {
   "cell_type": "markdown",
   "metadata": {},
   "source": [
    "# KNN imputation game plan\n",
    "(a) for 7200 entries, we have life_sq but not kitch_sq\n",
    "\n",
    " (b) for 2200 enteries, we have neither life_sq or kitch_sq \n",
    "\n",
    " odd values of full_sq and life_sq are equally distributed over train, test and null values of num_rooms\n",
    "\n",
    " KNN1- use full_sq, life_sq, sub_are, price_doc to impute (a) above\n",
    "\n",
    "KNN2 - use only full_sq,sub_area and price_doc to impute (b)\n",
    "\n",
    "\n",
    " No num_room null values in test data "
   ]
  },
  {
   "cell_type": "markdown",
   "metadata": {},
   "source": [
    "# KNN1-imputation"
   ]
  },
  {
   "cell_type": "raw",
   "metadata": {},
   "source": [
    "now consider following features are sufficient enough to predict num_rooms"
   ]
  },
  {
   "cell_type": "markdown",
   "metadata": {},
   "source": [
    "## now lets consider only rows with 'full_sq','life_sq','floor','sub_area','price_doc' not null at all to predict num_rooms"
   ]
  },
  {
   "cell_type": "code",
   "execution_count": 3,
   "metadata": {
    "collapsed": true
   },
   "outputs": [],
   "source": [
    "def knn1_impute(train_org_df):\n",
    "    #df=train_org_df[['full_sq','life_sq','num_room', 'price_doc']]\n",
    "    df=train_org_df[['full_sq','life_sq','num_room','sub_area', 'price_doc']]\n",
    "    df=pd.get_dummies(df)\n",
    "    #seperate test and train for KNN1 for which life_sq is never null\n",
    "    train_df = df[(df.num_room.notnull()) & (df.life_sq.notnull())]\n",
    "    train_X_df=train_df.drop('num_room',1)\n",
    "    train_y_df=train_df.num_room\n",
    "    train_X = train_X_df\n",
    "    train_y = train_y_df\n",
    "    #from sklearn.model_selection import train_test_split\n",
    "    #train_X, test_X, train_y, test_y = train_test_split(train_X_df,train_y_df,test_size=.2,random_state=16)\n",
    "    hidden_df=df[df.num_room.isnull() & (df.life_sq.notnull())]\n",
    "    hidden_X_df=hidden_df.drop('num_room',1)\n",
    "\n",
    "    from sklearn.neighbors import KNeighborsClassifier\n",
    "    knn=KNeighborsClassifier()\n",
    "    knn.fit(train_X,train_y)\n",
    "\n",
    "    #test_predict_y=knn.predict(test_X)\n",
    "    #knn.score(test_X,test_y)\n",
    "    hidden_X_df['num_room']=knn.predict(hidden_X_df)\n",
    "\n",
    "    tmp1=hidden_X_df.num_room\n",
    "    tmp1.shape\n",
    "    imputed_train_df=train_org_df.copy()\n",
    "    imputed_train_df.update(tmp1,raise_conflict=True)\n",
    "    return imputed_train_df"
   ]
  },
  {
   "cell_type": "code",
   "execution_count": 4,
   "metadata": {
    "collapsed": false
   },
   "outputs": [],
   "source": [
    "knn1_train_df=knn1_impute(train_df)"
   ]
  },
  {
   "cell_type": "markdown",
   "metadata": {},
   "source": [
    "# KNN1 - completed"
   ]
  },
  {
   "cell_type": "markdown",
   "metadata": {},
   "source": [
    "# KNN2-imputation"
   ]
  },
  {
   "cell_type": "raw",
   "metadata": {},
   "source": [
    "now consider following features are sufficient enough to predict num_rooms"
   ]
  },
  {
   "cell_type": "markdown",
   "metadata": {},
   "source": [
    "## now lets consider only 'full_sq','sub_area','price_doc' not null at all to predict num_rooms"
   ]
  },
  {
   "cell_type": "code",
   "execution_count": 5,
   "metadata": {
    "collapsed": true
   },
   "outputs": [],
   "source": [
    "def knn2_impute(train_org_df):\n",
    "    df=train_org_df[['full_sq','life_sq','kitch_sq','num_room','sub_area', 'price_doc']]\n",
    "    df=pd.get_dummies(df)\n",
    "\n",
    "    #seperate test and train for KNN1 for which life_sq is never null\n",
    "\n",
    "    train_df = df[(df.num_room.notnull())]\n",
    "    train_X_df=train_df.drop(['num_room','life_sq','kitch_sq'],1)\n",
    "    train_y_df=train_df.num_room\n",
    "    train_X = train_X_df\n",
    "    train_y = train_y_df\n",
    "    #from sklearn.model_selection import train_test_split\n",
    "    #train_X, test_X, train_y, test_y = train_test_split(train_X_df,train_y_df,test_size=.2,random_state=16)\n",
    "    hidden_df=df[df.num_room.isnull() & (df.life_sq.isnull()) & (df.kitch_sq.isnull())]\n",
    "    hidden_X_df=hidden_df.drop(['num_room','life_sq','kitch_sq'],1)\n",
    "\n",
    "    from sklearn.neighbors import KNeighborsClassifier\n",
    "    knn=KNeighborsClassifier()\n",
    "    knn.fit(train_X,train_y)\n",
    "\n",
    "    #test_predict_y=knn.predict(test_X)\n",
    "    #knn.score(test_X,test_y)\n",
    "    hidden_X_df['num_room']=knn.predict(hidden_X_df)\n",
    "\n",
    "    tmp1=hidden_X_df.num_room\n",
    "    imputed_train_df=train_org_df.copy()\n",
    "    imputed_train_df.update(tmp1,raise_conflict=True)\n",
    "    return imputed_train_df"
   ]
  },
  {
   "cell_type": "code",
   "execution_count": 6,
   "metadata": {
    "collapsed": false
   },
   "outputs": [],
   "source": [
    "knn2_train_df=knn2_impute(knn1_train_df)"
   ]
  },
  {
   "cell_type": "code",
   "execution_count": 7,
   "metadata": {
    "collapsed": true
   },
   "outputs": [],
   "source": [
    "train_df=knn2_train_df.copy()"
   ]
  },
  {
   "cell_type": "markdown",
   "metadata": {},
   "source": [
    "## KNN2- completed"
   ]
  },
  {
   "cell_type": "code",
   "execution_count": 8,
   "metadata": {
    "collapsed": true
   },
   "outputs": [],
   "source": [
    "def room_rent_drop(df):\n",
    "    room_rent_df = df\n",
    "    room_rent_df.ix[room_rent_df['num_room']== 1,['rent_price_4+room_bus', 'rent_price_3room_bus', 'rent_price_2room_bus',  'rent_price_3room_eco', 'rent_price_2room_eco', ]]=0\n",
    "    room_rent_df.ix[room_rent_df['num_room']== 2,['rent_price_4+room_bus', 'rent_price_3room_bus',  'rent_price_1room_bus', 'rent_price_3room_eco',  'rent_price_1room_eco']]=0\n",
    "    room_rent_df.ix[room_rent_df['num_room']== 3,['rent_price_4+room_bus',  'rent_price_2room_bus', 'rent_price_1room_bus', 'rent_price_2room_eco', 'rent_price_1room_eco']]=0\n",
    "    room_rent_df.ix[room_rent_df['num_room'] >= 4,[ 'rent_price_3room_bus', 'rent_price_2room_bus', 'rent_price_1room_bus', 'rent_price_3room_eco', 'rent_price_2room_eco', 'rent_price_1room_eco']]=0\n",
    "    \n",
    "    return room_rent_df\n",
    "def room_rent_avgs_only(df):\n",
    "    train_df=room_rent_drop(df)\n",
    "    tmp1 =train_df[train_df.num_room.isnull()]\n",
    "    tmp1['rent_eco_all']=0\n",
    "    tmp1.ix[tmp1.num_room.isnull(),'rent_eco_all'] = tmp1[['rent_price_2room_eco', 'rent_price_1room_eco', 'rent_price_3room_eco']].mean(axis=1)\n",
    "    tmp2 =train_df[train_df.num_room.notnull()]\n",
    "    tmp2['rent_eco_all']=tmp2[['rent_price_2room_eco', 'rent_price_1room_eco', 'rent_price_3room_eco']].sum(axis=1)\n",
    "    train_df =pd.concat([tmp1,tmp2],ignore_index=True)\n",
    "    tmp3 =train_df[train_df.num_room.isnull()]\n",
    "    tmp3['rent_bus_all']=0\n",
    "    tmp3.ix[tmp3.num_room.isnull(),'rent_eco_all'] = tmp3[['rent_price_2room_bus', 'rent_price_1room_bus', 'rent_price_3room_bus','rent_price_4+room_bus']].mean(axis=1)\n",
    "    tmp4 =train_df[train_df.num_room.notnull()]\n",
    "    tmp4['rent_bus_all']=tmp4[['rent_price_2room_bus', 'rent_price_1room_bus', 'rent_price_3room_bus','rent_price_4+room_bus']].sum(axis=1)\n",
    "    tmp4.tail()\n",
    "    train_df =pd.concat([tmp3,tmp4],ignore_index=True)\n",
    "    return train_df\n"
   ]
  },
  {
   "cell_type": "code",
   "execution_count": 9,
   "metadata": {
    "collapsed": false
   },
   "outputs": [
    {
     "name": "stderr",
     "output_type": "stream",
     "text": [
      "[Parallel(n_jobs=1)]: Done 500 out of 500 | elapsed:  8.6min finished\n",
      "[Parallel(n_jobs=1)]: Done 500 out of 500 | elapsed:    1.8s finished\n"
     ]
    }
   ],
   "source": [
    "from sklearn.ensemble import RandomForestRegressor\n",
    "from sklearn.pipeline import Pipeline\n",
    "from sklearn.preprocessing import Imputer\n",
    "from sklearn.model_selection import cross_val_score\n",
    "train_df=room_rent_avgs_only(train_df)\n",
    "test_df=room_rent_avgs_only(test_df)\n",
    "tmp10 =train_df.copy()\n",
    "tmp10.ix[tmp10.num_room>=4,'rent_eco_all']= tmp10['rent_bus_all']\n",
    "train_df = tmp10.copy()\n",
    "rng = np.random.RandomState(0)\n",
    "tmp_df=train_df.copy()\n",
    "y_train=train_df['price_doc'].as_matrix()\n",
    "\n",
    "#new\n",
    "features=train_df.columns\n",
    "use_fea=list(features[2:15])\n",
    "# expand\n",
    "use_fea.append('railroad_km')\n",
    "use_fea.append('cafe_count_5000')\n",
    "use_fea.append('cafe_count_2000')\n",
    "use_fea.append('metro_km_avto')\n",
    "use_fea.append('metro_min_walk')\n",
    "use_fea.append('bus_terminal_avto_km')\n",
    "use_fea.append('big_market_km')\n",
    "use_fea.append('oil_urals')\n",
    "use_fea.append('mortgage_rate')\n",
    "use_fea.append('unemployment')\n",
    "use_fea.append('rent_bus_all')\n",
    "use_fea.append('rent_eco_all')\n",
    "train_fea=train_df.columns\n",
    "test_fea=test_df.columns\n",
    "\n",
    "drop_train_fea=[i for i in train_fea if i not in use_fea]\n",
    "dropped_df=tmp_df.drop(drop_train_fea,axis=1)\n",
    "\n",
    "drop_test_fea=[i for i in test_fea if i not in use_fea]\n",
    "dropped_test_df=test_df.drop(drop_test_fea, axis=1)\n",
    "\n",
    "\n",
    "#dropped_df=tmp_df.drop(['modern_education_share','price_doc','timestamp','id'],axis=1)\n",
    "#dropped_test_df=testm_df.drop(['modern_education_share','timestamp','id'],axis=1)\n",
    "Data_FULL_arr=[dropped_df, dropped_test_df]\n",
    "DATA_Full=pd.concat(Data_FULL_arr)\n",
    "\n",
    "\n",
    "DATA_Full_dummy=pd.get_dummies(DATA_Full)\n",
    "X_full = DATA_Full_dummy.as_matrix()\n",
    "X_full=np.nan_to_num(X_full)\n",
    "\n",
    "X_train=X_full[0:len(y_train), :]\n",
    "X_test=X_full[len(y_train): , :]\n",
    "\n",
    "#y_full=dataset[:,[291]]\n",
    "#relevent_columns=[i for i in range(2,291)]\n",
    "#relevent_columns1=[i for i in range(292,391)]\n",
    "#rel_col=np.concatenate([relevent_columns,relevent_columns1],axis=0)\n",
    "#X_full=dataset[:,rel_col]\n",
    "\n",
    "n_samples = X_train.shape[0]\n",
    "n_features = X_train.shape[1]\n",
    "\n",
    "\n",
    "\n",
    "\n",
    "# Estimate the score on the entire dataset, with no missing values\n",
    "estimator = RandomForestRegressor(random_state=0, n_estimators=500, verbose=1)\n",
    "estimator.fit(X_train, y_train)\n",
    "predicted_y= estimator.predict(X_test)\n",
    "#score = cross_val_score(estimator, X_full, y_full).mean()\n",
    "#print(\"Score with the entire dataset = %.2f\" % score)\n",
    "\n",
    "\n",
    "AA=[list(test_df['id']), predicted_y]\n",
    "f=open('submit6.csv', 'w')\n",
    "f.write('id,price_doc\\n')\n",
    "for i,a in enumerate(AA[0]):\n",
    "    f.write('{0},{1}\\n'.format(AA[0][i], AA[1][i]))\n",
    "f.close()"
   ]
  },
  {
   "cell_type": "code",
   "execution_count": null,
   "metadata": {
    "collapsed": true
   },
   "outputs": [],
   "source": []
  }
 ],
 "metadata": {
  "kernelspec": {
   "display_name": "Python 3",
   "language": "python",
   "name": "python3"
  },
  "language_info": {
   "codemirror_mode": {
    "name": "ipython",
    "version": 3
   },
   "file_extension": ".py",
   "mimetype": "text/x-python",
   "name": "python",
   "nbconvert_exporter": "python",
   "pygments_lexer": "ipython3",
   "version": "3.6.0"
  }
 },
 "nbformat": 4,
 "nbformat_minor": 2
}
